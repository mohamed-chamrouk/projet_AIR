{
  "nbformat": 4,
  "nbformat_minor": 0,
  "metadata": {
    "colab": {
      "name": "Binary logistic regression.ipynb",
      "provenance": [],
      "include_colab_link": true
    },
    "kernelspec": {
      "name": "python3",
      "display_name": "Python 3"
    },
    "language_info": {
      "name": "python"
    },
    "accelerator": "GPU"
  },
  "cells": [
    {
      "cell_type": "markdown",
      "metadata": {
        "id": "view-in-github",
        "colab_type": "text"
      },
      "source": [
        "<a href=\"https://colab.research.google.com/github/mohamed-chamrouk/projet_AIR/blob/master/Binary_logistic_regression.ipynb\" target=\"_parent\"><img src=\"https://colab.research.google.com/assets/colab-badge.svg\" alt=\"Open In Colab\"/></a>"
      ]
    },
    {
      "cell_type": "code",
      "metadata": {
        "colab": {
          "base_uri": "https://localhost:8080/"
        },
        "id": "qwxVJNvxZ9h2",
        "outputId": "2e94fce7-582c-455a-b058-5ba22286882d"
      },
      "source": [
        "import pandas as pd\n",
        "import missingno as msno\n",
        "from sklearn.model_selection import train_test_split\n",
        "from matplotlib.ticker import MultipleLocator, FormatStrFormatter\n",
        "import numpy as np\n",
        "\n",
        "!pip install category_encoders\n",
        "import category_encoders as ce\n",
        "\n",
        "import math \n",
        "import matplotlib.pyplot as plt # For plots\n",
        "import os # To import external python files\n",
        "import sys# To import external python files\n",
        "\n",
        "from pandas.plotting import scatter_matrix\n",
        "\n",
        "!wget \"https://drive.google.com/uc?export=download&id=1BzvT-jeNOSCItKTV95eGsUcKEtm9fn0O\""
      ],
      "execution_count": 2,
      "outputs": [
        {
          "output_type": "stream",
          "text": [
            "Requirement already satisfied: category_encoders in /usr/local/lib/python3.7/dist-packages (2.2.2)\n",
            "Requirement already satisfied: patsy>=0.5.1 in /usr/local/lib/python3.7/dist-packages (from category_encoders) (0.5.1)\n",
            "Requirement already satisfied: scipy>=1.0.0 in /usr/local/lib/python3.7/dist-packages (from category_encoders) (1.4.1)\n",
            "Requirement already satisfied: pandas>=0.21.1 in /usr/local/lib/python3.7/dist-packages (from category_encoders) (1.1.5)\n",
            "Requirement already satisfied: statsmodels>=0.9.0 in /usr/local/lib/python3.7/dist-packages (from category_encoders) (0.10.2)\n",
            "Requirement already satisfied: scikit-learn>=0.20.0 in /usr/local/lib/python3.7/dist-packages (from category_encoders) (0.22.2.post1)\n",
            "Requirement already satisfied: numpy>=1.14.0 in /usr/local/lib/python3.7/dist-packages (from category_encoders) (1.19.5)\n",
            "Requirement already satisfied: six in /usr/local/lib/python3.7/dist-packages (from patsy>=0.5.1->category_encoders) (1.15.0)\n",
            "Requirement already satisfied: python-dateutil>=2.7.3 in /usr/local/lib/python3.7/dist-packages (from pandas>=0.21.1->category_encoders) (2.8.1)\n",
            "Requirement already satisfied: pytz>=2017.2 in /usr/local/lib/python3.7/dist-packages (from pandas>=0.21.1->category_encoders) (2018.9)\n",
            "Requirement already satisfied: joblib>=0.11 in /usr/local/lib/python3.7/dist-packages (from scikit-learn>=0.20.0->category_encoders) (1.0.1)\n"
          ],
          "name": "stdout"
        },
        {
          "output_type": "stream",
          "text": [
            "/usr/local/lib/python3.7/dist-packages/statsmodels/tools/_testing.py:19: FutureWarning: pandas.util.testing is deprecated. Use the functions in the public API at pandas.testing instead.\n",
            "  import pandas.util.testing as tm\n"
          ],
          "name": "stderr"
        },
        {
          "output_type": "stream",
          "text": [
            "--2021-06-08 14:17:40--  https://drive.google.com/uc?export=download&id=1BzvT-jeNOSCItKTV95eGsUcKEtm9fn0O\n",
            "Resolving drive.google.com (drive.google.com)... 142.251.33.206, 2607:f8b0:4004:837::200e\n",
            "Connecting to drive.google.com (drive.google.com)|142.251.33.206|:443... connected.\n",
            "HTTP request sent, awaiting response... 302 Moved Temporarily\n",
            "Location: https://doc-0g-34-docs.googleusercontent.com/docs/securesc/ha0ro937gcuc7l7deffksulhg5h7mbp1/854cot2uu5d9us4jbrjdv5sgbjtadrl4/1623161850000/15183519386814260962/*/1BzvT-jeNOSCItKTV95eGsUcKEtm9fn0O?e=download [following]\n",
            "Warning: wildcards not supported in HTTP.\n",
            "--2021-06-08 14:17:43--  https://doc-0g-34-docs.googleusercontent.com/docs/securesc/ha0ro937gcuc7l7deffksulhg5h7mbp1/854cot2uu5d9us4jbrjdv5sgbjtadrl4/1623161850000/15183519386814260962/*/1BzvT-jeNOSCItKTV95eGsUcKEtm9fn0O?e=download\n",
            "Resolving doc-0g-34-docs.googleusercontent.com (doc-0g-34-docs.googleusercontent.com)... 172.217.2.97, 2607:f8b0:4004:80a::2001\n",
            "Connecting to doc-0g-34-docs.googleusercontent.com (doc-0g-34-docs.googleusercontent.com)|172.217.2.97|:443... connected.\n",
            "HTTP request sent, awaiting response... 200 OK\n",
            "Length: unspecified [text/csv]\n",
            "Saving to: ‘uc?export=download&id=1BzvT-jeNOSCItKTV95eGsUcKEtm9fn0O’\n",
            "\n",
            "uc?export=download&     [   <=>              ]  71.89M   137MB/s    in 0.5s    \n",
            "\n",
            "2021-06-08 14:17:44 (137 MB/s) - ‘uc?export=download&id=1BzvT-jeNOSCItKTV95eGsUcKEtm9fn0O’ saved [75384237]\n",
            "\n"
          ],
          "name": "stdout"
        }
      ]
    },
    {
      "cell_type": "code",
      "metadata": {
        "colab": {
          "base_uri": "https://localhost:8080/",
          "height": 439
        },
        "id": "09jhg-WgaRjm",
        "outputId": "6728cea1-0135-47ac-df78-c6feb24b661a"
      },
      "source": [
        "!mv \"uc?export=download&id=1BzvT-jeNOSCItKTV95eGsUcKEtm9fn0O\" dataset.csv\n",
        "df = pd.read_csv('dataset.csv')\n",
        "df"
      ],
      "execution_count": 3,
      "outputs": [
        {
          "output_type": "execute_result",
          "data": {
            "text/html": [
              "<div>\n",
              "<style scoped>\n",
              "    .dataframe tbody tr th:only-of-type {\n",
              "        vertical-align: middle;\n",
              "    }\n",
              "\n",
              "    .dataframe tbody tr th {\n",
              "        vertical-align: top;\n",
              "    }\n",
              "\n",
              "    .dataframe thead th {\n",
              "        text-align: right;\n",
              "    }\n",
              "</style>\n",
              "<table border=\"1\" class=\"dataframe\">\n",
              "  <thead>\n",
              "    <tr style=\"text-align: right;\">\n",
              "      <th></th>\n",
              "      <th>duration</th>\n",
              "      <th>protocol_type</th>\n",
              "      <th>service</th>\n",
              "      <th>flag</th>\n",
              "      <th>src_bytes</th>\n",
              "      <th>dst_bytes</th>\n",
              "      <th>land</th>\n",
              "      <th>wrong_fragment</th>\n",
              "      <th>urgent</th>\n",
              "      <th>hot</th>\n",
              "      <th>num_failed_logins</th>\n",
              "      <th>logged_in</th>\n",
              "      <th>num_compromised</th>\n",
              "      <th>root_shell</th>\n",
              "      <th>su_attempted</th>\n",
              "      <th>num_root</th>\n",
              "      <th>num_file_creations</th>\n",
              "      <th>num_shells</th>\n",
              "      <th>num_access_files</th>\n",
              "      <th>num_outbound_cmds</th>\n",
              "      <th>is_host_login</th>\n",
              "      <th>is_guest_login</th>\n",
              "      <th>count</th>\n",
              "      <th>srv_count</th>\n",
              "      <th>serror_rate</th>\n",
              "      <th>srv_serror_rate</th>\n",
              "      <th>rerror_rate</th>\n",
              "      <th>srv_rerror_rate</th>\n",
              "      <th>same_srv_rate</th>\n",
              "      <th>diff_srv_rate</th>\n",
              "      <th>srv_diff_host_rate</th>\n",
              "      <th>dst_host_count</th>\n",
              "      <th>dst_host_srv_count</th>\n",
              "      <th>dst_host_same_srv_rate</th>\n",
              "      <th>dst_host_diff_srv_rate</th>\n",
              "      <th>dst_host_same_src_port_rate</th>\n",
              "      <th>dst_host_srv_diff_host_rate</th>\n",
              "      <th>dst_host_serror_rate</th>\n",
              "      <th>dst_host_srv_serror_rate</th>\n",
              "      <th>dst_host_rerror_rate</th>\n",
              "      <th>dst_host_srv_rerror_rate</th>\n",
              "      <th>type</th>\n",
              "    </tr>\n",
              "  </thead>\n",
              "  <tbody>\n",
              "    <tr>\n",
              "      <th>0</th>\n",
              "      <td>0</td>\n",
              "      <td>tcp</td>\n",
              "      <td>http</td>\n",
              "      <td>SF</td>\n",
              "      <td>239</td>\n",
              "      <td>486</td>\n",
              "      <td>0</td>\n",
              "      <td>0</td>\n",
              "      <td>0</td>\n",
              "      <td>0</td>\n",
              "      <td>0</td>\n",
              "      <td>1</td>\n",
              "      <td>0</td>\n",
              "      <td>0</td>\n",
              "      <td>0</td>\n",
              "      <td>0</td>\n",
              "      <td>0</td>\n",
              "      <td>0</td>\n",
              "      <td>0</td>\n",
              "      <td>0</td>\n",
              "      <td>0</td>\n",
              "      <td>0</td>\n",
              "      <td>8</td>\n",
              "      <td>8</td>\n",
              "      <td>0.00</td>\n",
              "      <td>0.00</td>\n",
              "      <td>0.0</td>\n",
              "      <td>0.0</td>\n",
              "      <td>1.0</td>\n",
              "      <td>0.0</td>\n",
              "      <td>0.00</td>\n",
              "      <td>19</td>\n",
              "      <td>19</td>\n",
              "      <td>1.0</td>\n",
              "      <td>0.0</td>\n",
              "      <td>0.05</td>\n",
              "      <td>0.00</td>\n",
              "      <td>0.00</td>\n",
              "      <td>0.00</td>\n",
              "      <td>0.0</td>\n",
              "      <td>0.0</td>\n",
              "      <td>normal.</td>\n",
              "    </tr>\n",
              "    <tr>\n",
              "      <th>1</th>\n",
              "      <td>0</td>\n",
              "      <td>tcp</td>\n",
              "      <td>http</td>\n",
              "      <td>SF</td>\n",
              "      <td>235</td>\n",
              "      <td>1337</td>\n",
              "      <td>0</td>\n",
              "      <td>0</td>\n",
              "      <td>0</td>\n",
              "      <td>0</td>\n",
              "      <td>0</td>\n",
              "      <td>1</td>\n",
              "      <td>0</td>\n",
              "      <td>0</td>\n",
              "      <td>0</td>\n",
              "      <td>0</td>\n",
              "      <td>0</td>\n",
              "      <td>0</td>\n",
              "      <td>0</td>\n",
              "      <td>0</td>\n",
              "      <td>0</td>\n",
              "      <td>0</td>\n",
              "      <td>8</td>\n",
              "      <td>8</td>\n",
              "      <td>0.00</td>\n",
              "      <td>0.00</td>\n",
              "      <td>0.0</td>\n",
              "      <td>0.0</td>\n",
              "      <td>1.0</td>\n",
              "      <td>0.0</td>\n",
              "      <td>0.00</td>\n",
              "      <td>29</td>\n",
              "      <td>29</td>\n",
              "      <td>1.0</td>\n",
              "      <td>0.0</td>\n",
              "      <td>0.03</td>\n",
              "      <td>0.00</td>\n",
              "      <td>0.00</td>\n",
              "      <td>0.00</td>\n",
              "      <td>0.0</td>\n",
              "      <td>0.0</td>\n",
              "      <td>normal.</td>\n",
              "    </tr>\n",
              "    <tr>\n",
              "      <th>2</th>\n",
              "      <td>0</td>\n",
              "      <td>tcp</td>\n",
              "      <td>http</td>\n",
              "      <td>SF</td>\n",
              "      <td>219</td>\n",
              "      <td>1337</td>\n",
              "      <td>0</td>\n",
              "      <td>0</td>\n",
              "      <td>0</td>\n",
              "      <td>0</td>\n",
              "      <td>0</td>\n",
              "      <td>1</td>\n",
              "      <td>0</td>\n",
              "      <td>0</td>\n",
              "      <td>0</td>\n",
              "      <td>0</td>\n",
              "      <td>0</td>\n",
              "      <td>0</td>\n",
              "      <td>0</td>\n",
              "      <td>0</td>\n",
              "      <td>0</td>\n",
              "      <td>0</td>\n",
              "      <td>6</td>\n",
              "      <td>6</td>\n",
              "      <td>0.00</td>\n",
              "      <td>0.00</td>\n",
              "      <td>0.0</td>\n",
              "      <td>0.0</td>\n",
              "      <td>1.0</td>\n",
              "      <td>0.0</td>\n",
              "      <td>0.00</td>\n",
              "      <td>39</td>\n",
              "      <td>39</td>\n",
              "      <td>1.0</td>\n",
              "      <td>0.0</td>\n",
              "      <td>0.03</td>\n",
              "      <td>0.00</td>\n",
              "      <td>0.00</td>\n",
              "      <td>0.00</td>\n",
              "      <td>0.0</td>\n",
              "      <td>0.0</td>\n",
              "      <td>normal.</td>\n",
              "    </tr>\n",
              "    <tr>\n",
              "      <th>3</th>\n",
              "      <td>0</td>\n",
              "      <td>tcp</td>\n",
              "      <td>http</td>\n",
              "      <td>SF</td>\n",
              "      <td>217</td>\n",
              "      <td>2032</td>\n",
              "      <td>0</td>\n",
              "      <td>0</td>\n",
              "      <td>0</td>\n",
              "      <td>0</td>\n",
              "      <td>0</td>\n",
              "      <td>1</td>\n",
              "      <td>0</td>\n",
              "      <td>0</td>\n",
              "      <td>0</td>\n",
              "      <td>0</td>\n",
              "      <td>0</td>\n",
              "      <td>0</td>\n",
              "      <td>0</td>\n",
              "      <td>0</td>\n",
              "      <td>0</td>\n",
              "      <td>0</td>\n",
              "      <td>6</td>\n",
              "      <td>6</td>\n",
              "      <td>0.00</td>\n",
              "      <td>0.00</td>\n",
              "      <td>0.0</td>\n",
              "      <td>0.0</td>\n",
              "      <td>1.0</td>\n",
              "      <td>0.0</td>\n",
              "      <td>0.00</td>\n",
              "      <td>49</td>\n",
              "      <td>49</td>\n",
              "      <td>1.0</td>\n",
              "      <td>0.0</td>\n",
              "      <td>0.02</td>\n",
              "      <td>0.00</td>\n",
              "      <td>0.00</td>\n",
              "      <td>0.00</td>\n",
              "      <td>0.0</td>\n",
              "      <td>0.0</td>\n",
              "      <td>normal.</td>\n",
              "    </tr>\n",
              "    <tr>\n",
              "      <th>4</th>\n",
              "      <td>0</td>\n",
              "      <td>tcp</td>\n",
              "      <td>http</td>\n",
              "      <td>SF</td>\n",
              "      <td>217</td>\n",
              "      <td>2032</td>\n",
              "      <td>0</td>\n",
              "      <td>0</td>\n",
              "      <td>0</td>\n",
              "      <td>0</td>\n",
              "      <td>0</td>\n",
              "      <td>1</td>\n",
              "      <td>0</td>\n",
              "      <td>0</td>\n",
              "      <td>0</td>\n",
              "      <td>0</td>\n",
              "      <td>0</td>\n",
              "      <td>0</td>\n",
              "      <td>0</td>\n",
              "      <td>0</td>\n",
              "      <td>0</td>\n",
              "      <td>0</td>\n",
              "      <td>6</td>\n",
              "      <td>6</td>\n",
              "      <td>0.00</td>\n",
              "      <td>0.00</td>\n",
              "      <td>0.0</td>\n",
              "      <td>0.0</td>\n",
              "      <td>1.0</td>\n",
              "      <td>0.0</td>\n",
              "      <td>0.00</td>\n",
              "      <td>59</td>\n",
              "      <td>59</td>\n",
              "      <td>1.0</td>\n",
              "      <td>0.0</td>\n",
              "      <td>0.02</td>\n",
              "      <td>0.00</td>\n",
              "      <td>0.00</td>\n",
              "      <td>0.00</td>\n",
              "      <td>0.0</td>\n",
              "      <td>0.0</td>\n",
              "      <td>normal.</td>\n",
              "    </tr>\n",
              "    <tr>\n",
              "      <th>...</th>\n",
              "      <td>...</td>\n",
              "      <td>...</td>\n",
              "      <td>...</td>\n",
              "      <td>...</td>\n",
              "      <td>...</td>\n",
              "      <td>...</td>\n",
              "      <td>...</td>\n",
              "      <td>...</td>\n",
              "      <td>...</td>\n",
              "      <td>...</td>\n",
              "      <td>...</td>\n",
              "      <td>...</td>\n",
              "      <td>...</td>\n",
              "      <td>...</td>\n",
              "      <td>...</td>\n",
              "      <td>...</td>\n",
              "      <td>...</td>\n",
              "      <td>...</td>\n",
              "      <td>...</td>\n",
              "      <td>...</td>\n",
              "      <td>...</td>\n",
              "      <td>...</td>\n",
              "      <td>...</td>\n",
              "      <td>...</td>\n",
              "      <td>...</td>\n",
              "      <td>...</td>\n",
              "      <td>...</td>\n",
              "      <td>...</td>\n",
              "      <td>...</td>\n",
              "      <td>...</td>\n",
              "      <td>...</td>\n",
              "      <td>...</td>\n",
              "      <td>...</td>\n",
              "      <td>...</td>\n",
              "      <td>...</td>\n",
              "      <td>...</td>\n",
              "      <td>...</td>\n",
              "      <td>...</td>\n",
              "      <td>...</td>\n",
              "      <td>...</td>\n",
              "      <td>...</td>\n",
              "      <td>...</td>\n",
              "    </tr>\n",
              "    <tr>\n",
              "      <th>494015</th>\n",
              "      <td>0</td>\n",
              "      <td>tcp</td>\n",
              "      <td>http</td>\n",
              "      <td>SF</td>\n",
              "      <td>310</td>\n",
              "      <td>1881</td>\n",
              "      <td>0</td>\n",
              "      <td>0</td>\n",
              "      <td>0</td>\n",
              "      <td>0</td>\n",
              "      <td>0</td>\n",
              "      <td>1</td>\n",
              "      <td>0</td>\n",
              "      <td>0</td>\n",
              "      <td>0</td>\n",
              "      <td>0</td>\n",
              "      <td>0</td>\n",
              "      <td>0</td>\n",
              "      <td>0</td>\n",
              "      <td>0</td>\n",
              "      <td>0</td>\n",
              "      <td>0</td>\n",
              "      <td>4</td>\n",
              "      <td>5</td>\n",
              "      <td>0.00</td>\n",
              "      <td>0.00</td>\n",
              "      <td>0.0</td>\n",
              "      <td>0.0</td>\n",
              "      <td>1.0</td>\n",
              "      <td>0.0</td>\n",
              "      <td>0.40</td>\n",
              "      <td>86</td>\n",
              "      <td>255</td>\n",
              "      <td>1.0</td>\n",
              "      <td>0.0</td>\n",
              "      <td>0.01</td>\n",
              "      <td>0.05</td>\n",
              "      <td>0.00</td>\n",
              "      <td>0.01</td>\n",
              "      <td>0.0</td>\n",
              "      <td>0.0</td>\n",
              "      <td>normal.</td>\n",
              "    </tr>\n",
              "    <tr>\n",
              "      <th>494016</th>\n",
              "      <td>0</td>\n",
              "      <td>tcp</td>\n",
              "      <td>http</td>\n",
              "      <td>SF</td>\n",
              "      <td>282</td>\n",
              "      <td>2286</td>\n",
              "      <td>0</td>\n",
              "      <td>0</td>\n",
              "      <td>0</td>\n",
              "      <td>0</td>\n",
              "      <td>0</td>\n",
              "      <td>1</td>\n",
              "      <td>0</td>\n",
              "      <td>0</td>\n",
              "      <td>0</td>\n",
              "      <td>0</td>\n",
              "      <td>0</td>\n",
              "      <td>0</td>\n",
              "      <td>0</td>\n",
              "      <td>0</td>\n",
              "      <td>0</td>\n",
              "      <td>0</td>\n",
              "      <td>6</td>\n",
              "      <td>6</td>\n",
              "      <td>0.00</td>\n",
              "      <td>0.00</td>\n",
              "      <td>0.0</td>\n",
              "      <td>0.0</td>\n",
              "      <td>1.0</td>\n",
              "      <td>0.0</td>\n",
              "      <td>0.00</td>\n",
              "      <td>6</td>\n",
              "      <td>255</td>\n",
              "      <td>1.0</td>\n",
              "      <td>0.0</td>\n",
              "      <td>0.17</td>\n",
              "      <td>0.05</td>\n",
              "      <td>0.00</td>\n",
              "      <td>0.01</td>\n",
              "      <td>0.0</td>\n",
              "      <td>0.0</td>\n",
              "      <td>normal.</td>\n",
              "    </tr>\n",
              "    <tr>\n",
              "      <th>494017</th>\n",
              "      <td>0</td>\n",
              "      <td>tcp</td>\n",
              "      <td>http</td>\n",
              "      <td>SF</td>\n",
              "      <td>203</td>\n",
              "      <td>1200</td>\n",
              "      <td>0</td>\n",
              "      <td>0</td>\n",
              "      <td>0</td>\n",
              "      <td>0</td>\n",
              "      <td>0</td>\n",
              "      <td>1</td>\n",
              "      <td>0</td>\n",
              "      <td>0</td>\n",
              "      <td>0</td>\n",
              "      <td>0</td>\n",
              "      <td>0</td>\n",
              "      <td>0</td>\n",
              "      <td>0</td>\n",
              "      <td>0</td>\n",
              "      <td>0</td>\n",
              "      <td>0</td>\n",
              "      <td>6</td>\n",
              "      <td>18</td>\n",
              "      <td>0.17</td>\n",
              "      <td>0.11</td>\n",
              "      <td>0.0</td>\n",
              "      <td>0.0</td>\n",
              "      <td>1.0</td>\n",
              "      <td>0.0</td>\n",
              "      <td>0.17</td>\n",
              "      <td>16</td>\n",
              "      <td>255</td>\n",
              "      <td>1.0</td>\n",
              "      <td>0.0</td>\n",
              "      <td>0.06</td>\n",
              "      <td>0.05</td>\n",
              "      <td>0.06</td>\n",
              "      <td>0.01</td>\n",
              "      <td>0.0</td>\n",
              "      <td>0.0</td>\n",
              "      <td>normal.</td>\n",
              "    </tr>\n",
              "    <tr>\n",
              "      <th>494018</th>\n",
              "      <td>0</td>\n",
              "      <td>tcp</td>\n",
              "      <td>http</td>\n",
              "      <td>SF</td>\n",
              "      <td>291</td>\n",
              "      <td>1200</td>\n",
              "      <td>0</td>\n",
              "      <td>0</td>\n",
              "      <td>0</td>\n",
              "      <td>0</td>\n",
              "      <td>0</td>\n",
              "      <td>1</td>\n",
              "      <td>0</td>\n",
              "      <td>0</td>\n",
              "      <td>0</td>\n",
              "      <td>0</td>\n",
              "      <td>0</td>\n",
              "      <td>0</td>\n",
              "      <td>0</td>\n",
              "      <td>0</td>\n",
              "      <td>0</td>\n",
              "      <td>0</td>\n",
              "      <td>6</td>\n",
              "      <td>12</td>\n",
              "      <td>0.00</td>\n",
              "      <td>0.00</td>\n",
              "      <td>0.0</td>\n",
              "      <td>0.0</td>\n",
              "      <td>1.0</td>\n",
              "      <td>0.0</td>\n",
              "      <td>0.17</td>\n",
              "      <td>26</td>\n",
              "      <td>255</td>\n",
              "      <td>1.0</td>\n",
              "      <td>0.0</td>\n",
              "      <td>0.04</td>\n",
              "      <td>0.05</td>\n",
              "      <td>0.04</td>\n",
              "      <td>0.01</td>\n",
              "      <td>0.0</td>\n",
              "      <td>0.0</td>\n",
              "      <td>normal.</td>\n",
              "    </tr>\n",
              "    <tr>\n",
              "      <th>494019</th>\n",
              "      <td>0</td>\n",
              "      <td>tcp</td>\n",
              "      <td>http</td>\n",
              "      <td>SF</td>\n",
              "      <td>219</td>\n",
              "      <td>1234</td>\n",
              "      <td>0</td>\n",
              "      <td>0</td>\n",
              "      <td>0</td>\n",
              "      <td>0</td>\n",
              "      <td>0</td>\n",
              "      <td>1</td>\n",
              "      <td>0</td>\n",
              "      <td>0</td>\n",
              "      <td>0</td>\n",
              "      <td>0</td>\n",
              "      <td>0</td>\n",
              "      <td>0</td>\n",
              "      <td>0</td>\n",
              "      <td>0</td>\n",
              "      <td>0</td>\n",
              "      <td>0</td>\n",
              "      <td>6</td>\n",
              "      <td>35</td>\n",
              "      <td>0.00</td>\n",
              "      <td>0.00</td>\n",
              "      <td>0.0</td>\n",
              "      <td>0.0</td>\n",
              "      <td>1.0</td>\n",
              "      <td>0.0</td>\n",
              "      <td>0.14</td>\n",
              "      <td>6</td>\n",
              "      <td>255</td>\n",
              "      <td>1.0</td>\n",
              "      <td>0.0</td>\n",
              "      <td>0.17</td>\n",
              "      <td>0.05</td>\n",
              "      <td>0.00</td>\n",
              "      <td>0.01</td>\n",
              "      <td>0.0</td>\n",
              "      <td>0.0</td>\n",
              "      <td>normal.</td>\n",
              "    </tr>\n",
              "  </tbody>\n",
              "</table>\n",
              "<p>494020 rows × 42 columns</p>\n",
              "</div>"
            ],
            "text/plain": [
              "        duration protocol_type  ... dst_host_srv_rerror_rate     type\n",
              "0              0           tcp  ...                      0.0  normal.\n",
              "1              0           tcp  ...                      0.0  normal.\n",
              "2              0           tcp  ...                      0.0  normal.\n",
              "3              0           tcp  ...                      0.0  normal.\n",
              "4              0           tcp  ...                      0.0  normal.\n",
              "...          ...           ...  ...                      ...      ...\n",
              "494015         0           tcp  ...                      0.0  normal.\n",
              "494016         0           tcp  ...                      0.0  normal.\n",
              "494017         0           tcp  ...                      0.0  normal.\n",
              "494018         0           tcp  ...                      0.0  normal.\n",
              "494019         0           tcp  ...                      0.0  normal.\n",
              "\n",
              "[494020 rows x 42 columns]"
            ]
          },
          "metadata": {
            "tags": []
          },
          "execution_count": 3
        }
      ]
    },
    {
      "cell_type": "code",
      "metadata": {
        "colab": {
          "base_uri": "https://localhost:8080/"
        },
        "id": "QFt7isoZdQBj",
        "outputId": "349f46bb-85e4-4ab4-ee04-8b7cbedfad97"
      },
      "source": [
        "df = df.rename(columns={'type':'label'})\n",
        "print(df['label'].unique())\n",
        "df['label'].value_counts()"
      ],
      "execution_count": 4,
      "outputs": [
        {
          "output_type": "stream",
          "text": [
            "['normal.' 'buffer_overflow.' 'loadmodule.' 'perl.' 'neptune.' 'smurf.'\n",
            " 'guess_passwd.' 'pod.' 'teardrop.' 'portsweep.' 'ipsweep.' 'land.'\n",
            " 'ftp_write.' 'back.' 'imap.' 'satan.' 'phf.' 'nmap.' 'multihop.'\n",
            " 'warezmaster.' 'warezclient.' 'spy.' 'rootkit.']\n"
          ],
          "name": "stdout"
        },
        {
          "output_type": "execute_result",
          "data": {
            "text/plain": [
              "smurf.              280790\n",
              "neptune.            107201\n",
              "normal.              97277\n",
              "back.                 2203\n",
              "satan.                1589\n",
              "ipsweep.              1247\n",
              "portsweep.            1040\n",
              "warezclient.          1020\n",
              "teardrop.              979\n",
              "pod.                   264\n",
              "nmap.                  231\n",
              "guess_passwd.           53\n",
              "buffer_overflow.        30\n",
              "land.                   21\n",
              "warezmaster.            20\n",
              "imap.                   12\n",
              "rootkit.                10\n",
              "loadmodule.              9\n",
              "ftp_write.               8\n",
              "multihop.                7\n",
              "phf.                     4\n",
              "perl.                    3\n",
              "spy.                     2\n",
              "Name: label, dtype: int64"
            ]
          },
          "metadata": {
            "tags": []
          },
          "execution_count": 4
        }
      ]
    },
    {
      "cell_type": "markdown",
      "metadata": {
        "id": "ciaqEg4SYUQ1"
      },
      "source": [
        "removing columns with no significant values\n"
      ]
    },
    {
      "cell_type": "code",
      "metadata": {
        "colab": {
          "base_uri": "https://localhost:8080/"
        },
        "id": "yDK5OHj_D0wI",
        "outputId": "f5a8b7df-709b-4b14-86b8-f5f8b2c4149b"
      },
      "source": [
        "cols_to_remove = list([\"duration\"])\n",
        "df = df.drop(cols_to_remove, axis=1)\n",
        "df.info(verbose=True)"
      ],
      "execution_count": 5,
      "outputs": [
        {
          "output_type": "stream",
          "text": [
            "<class 'pandas.core.frame.DataFrame'>\n",
            "RangeIndex: 494020 entries, 0 to 494019\n",
            "Data columns (total 41 columns):\n",
            " #   Column                       Non-Null Count   Dtype  \n",
            "---  ------                       --------------   -----  \n",
            " 0   protocol_type                494020 non-null  object \n",
            " 1   service                      494020 non-null  object \n",
            " 2   flag                         494020 non-null  object \n",
            " 3   src_bytes                    494020 non-null  int64  \n",
            " 4   dst_bytes                    494020 non-null  int64  \n",
            " 5   land                         494020 non-null  int64  \n",
            " 6   wrong_fragment               494020 non-null  int64  \n",
            " 7   urgent                       494020 non-null  int64  \n",
            " 8   hot                          494020 non-null  int64  \n",
            " 9   num_failed_logins            494020 non-null  int64  \n",
            " 10  logged_in                    494020 non-null  int64  \n",
            " 11  num_compromised              494020 non-null  int64  \n",
            " 12  root_shell                   494020 non-null  int64  \n",
            " 13  su_attempted                 494020 non-null  int64  \n",
            " 14  num_root                     494020 non-null  int64  \n",
            " 15  num_file_creations           494020 non-null  int64  \n",
            " 16  num_shells                   494020 non-null  int64  \n",
            " 17  num_access_files             494020 non-null  int64  \n",
            " 18  num_outbound_cmds            494020 non-null  int64  \n",
            " 19  is_host_login                494020 non-null  int64  \n",
            " 20  is_guest_login               494020 non-null  int64  \n",
            " 21  count                        494020 non-null  int64  \n",
            " 22  srv_count                    494020 non-null  int64  \n",
            " 23  serror_rate                  494020 non-null  float64\n",
            " 24  srv_serror_rate              494020 non-null  float64\n",
            " 25  rerror_rate                  494020 non-null  float64\n",
            " 26  srv_rerror_rate              494020 non-null  float64\n",
            " 27  same_srv_rate                494020 non-null  float64\n",
            " 28  diff_srv_rate                494020 non-null  float64\n",
            " 29  srv_diff_host_rate           494020 non-null  float64\n",
            " 30  dst_host_count               494020 non-null  int64  \n",
            " 31  dst_host_srv_count           494020 non-null  int64  \n",
            " 32  dst_host_same_srv_rate       494020 non-null  float64\n",
            " 33  dst_host_diff_srv_rate       494020 non-null  float64\n",
            " 34  dst_host_same_src_port_rate  494020 non-null  float64\n",
            " 35  dst_host_srv_diff_host_rate  494020 non-null  float64\n",
            " 36  dst_host_serror_rate         494020 non-null  float64\n",
            " 37  dst_host_srv_serror_rate     494020 non-null  float64\n",
            " 38  dst_host_rerror_rate         494020 non-null  float64\n",
            " 39  dst_host_srv_rerror_rate     494020 non-null  float64\n",
            " 40  label                        494020 non-null  object \n",
            "dtypes: float64(15), int64(22), object(4)\n",
            "memory usage: 154.5+ MB\n"
          ],
          "name": "stdout"
        }
      ]
    },
    {
      "cell_type": "markdown",
      "metadata": {
        "id": "kaYPk9vcYD8E"
      },
      "source": [
        "transforming columns with string values to integer values "
      ]
    },
    {
      "cell_type": "code",
      "metadata": {
        "colab": {
          "base_uri": "https://localhost:8080/"
        },
        "id": "CyAA6UixIKc9",
        "outputId": "8223cf6a-a88c-442c-b4d4-f7fc25224b5e"
      },
      "source": [
        "encoder = ce.OneHotEncoder(cols=['protocol_type', 'service', 'flag'], use_cat_names=True)\n",
        "df_encoded = encoder.fit_transform(df)\n",
        "df_encoded.info(verbose=True)"
      ],
      "execution_count": 6,
      "outputs": [
        {
          "output_type": "stream",
          "text": [
            "/usr/local/lib/python3.7/dist-packages/category_encoders/utils.py:21: FutureWarning: is_categorical is deprecated and will be removed in a future version.  Use is_categorical_dtype instead\n",
            "  elif pd.api.types.is_categorical(cols):\n"
          ],
          "name": "stderr"
        },
        {
          "output_type": "stream",
          "text": [
            "<class 'pandas.core.frame.DataFrame'>\n",
            "RangeIndex: 494020 entries, 0 to 494019\n",
            "Data columns (total 118 columns):\n",
            " #   Column                       Dtype  \n",
            "---  ------                       -----  \n",
            " 0   protocol_type_tcp            int64  \n",
            " 1   protocol_type_udp            int64  \n",
            " 2   protocol_type_icmp           int64  \n",
            " 3   service_http                 int64  \n",
            " 4   service_smtp                 int64  \n",
            " 5   service_finger               int64  \n",
            " 6   service_domain_u             int64  \n",
            " 7   service_auth                 int64  \n",
            " 8   service_telnet               int64  \n",
            " 9   service_ftp                  int64  \n",
            " 10  service_eco_i                int64  \n",
            " 11  service_ntp_u                int64  \n",
            " 12  service_ecr_i                int64  \n",
            " 13  service_other                int64  \n",
            " 14  service_private              int64  \n",
            " 15  service_pop_3                int64  \n",
            " 16  service_ftp_data             int64  \n",
            " 17  service_rje                  int64  \n",
            " 18  service_time                 int64  \n",
            " 19  service_mtp                  int64  \n",
            " 20  service_link                 int64  \n",
            " 21  service_remote_job           int64  \n",
            " 22  service_gopher               int64  \n",
            " 23  service_ssh                  int64  \n",
            " 24  service_name                 int64  \n",
            " 25  service_whois                int64  \n",
            " 26  service_domain               int64  \n",
            " 27  service_login                int64  \n",
            " 28  service_imap4                int64  \n",
            " 29  service_daytime              int64  \n",
            " 30  service_ctf                  int64  \n",
            " 31  service_nntp                 int64  \n",
            " 32  service_shell                int64  \n",
            " 33  service_IRC                  int64  \n",
            " 34  service_nnsp                 int64  \n",
            " 35  service_http_443             int64  \n",
            " 36  service_exec                 int64  \n",
            " 37  service_printer              int64  \n",
            " 38  service_efs                  int64  \n",
            " 39  service_courier              int64  \n",
            " 40  service_uucp                 int64  \n",
            " 41  service_klogin               int64  \n",
            " 42  service_kshell               int64  \n",
            " 43  service_echo                 int64  \n",
            " 44  service_discard              int64  \n",
            " 45  service_systat               int64  \n",
            " 46  service_supdup               int64  \n",
            " 47  service_iso_tsap             int64  \n",
            " 48  service_hostnames            int64  \n",
            " 49  service_csnet_ns             int64  \n",
            " 50  service_pop_2                int64  \n",
            " 51  service_sunrpc               int64  \n",
            " 52  service_uucp_path            int64  \n",
            " 53  service_netbios_ns           int64  \n",
            " 54  service_netbios_ssn          int64  \n",
            " 55  service_netbios_dgm          int64  \n",
            " 56  service_sql_net              int64  \n",
            " 57  service_vmnet                int64  \n",
            " 58  service_bgp                  int64  \n",
            " 59  service_Z39_50               int64  \n",
            " 60  service_ldap                 int64  \n",
            " 61  service_netstat              int64  \n",
            " 62  service_urh_i                int64  \n",
            " 63  service_X11                  int64  \n",
            " 64  service_urp_i                int64  \n",
            " 65  service_pm_dump              int64  \n",
            " 66  service_tftp_u               int64  \n",
            " 67  service_tim_i                int64  \n",
            " 68  service_red_i                int64  \n",
            " 69  flag_SF                      int64  \n",
            " 70  flag_S1                      int64  \n",
            " 71  flag_REJ                     int64  \n",
            " 72  flag_S2                      int64  \n",
            " 73  flag_S0                      int64  \n",
            " 74  flag_S3                      int64  \n",
            " 75  flag_RSTO                    int64  \n",
            " 76  flag_RSTR                    int64  \n",
            " 77  flag_RSTOS0                  int64  \n",
            " 78  flag_OTH                     int64  \n",
            " 79  flag_SH                      int64  \n",
            " 80  src_bytes                    int64  \n",
            " 81  dst_bytes                    int64  \n",
            " 82  land                         int64  \n",
            " 83  wrong_fragment               int64  \n",
            " 84  urgent                       int64  \n",
            " 85  hot                          int64  \n",
            " 86  num_failed_logins            int64  \n",
            " 87  logged_in                    int64  \n",
            " 88  num_compromised              int64  \n",
            " 89  root_shell                   int64  \n",
            " 90  su_attempted                 int64  \n",
            " 91  num_root                     int64  \n",
            " 92  num_file_creations           int64  \n",
            " 93  num_shells                   int64  \n",
            " 94  num_access_files             int64  \n",
            " 95  num_outbound_cmds            int64  \n",
            " 96  is_host_login                int64  \n",
            " 97  is_guest_login               int64  \n",
            " 98  count                        int64  \n",
            " 99  srv_count                    int64  \n",
            " 100 serror_rate                  float64\n",
            " 101 srv_serror_rate              float64\n",
            " 102 rerror_rate                  float64\n",
            " 103 srv_rerror_rate              float64\n",
            " 104 same_srv_rate                float64\n",
            " 105 diff_srv_rate                float64\n",
            " 106 srv_diff_host_rate           float64\n",
            " 107 dst_host_count               int64  \n",
            " 108 dst_host_srv_count           int64  \n",
            " 109 dst_host_same_srv_rate       float64\n",
            " 110 dst_host_diff_srv_rate       float64\n",
            " 111 dst_host_same_src_port_rate  float64\n",
            " 112 dst_host_srv_diff_host_rate  float64\n",
            " 113 dst_host_serror_rate         float64\n",
            " 114 dst_host_srv_serror_rate     float64\n",
            " 115 dst_host_rerror_rate         float64\n",
            " 116 dst_host_srv_rerror_rate     float64\n",
            " 117 label                        object \n",
            "dtypes: float64(15), int64(102), object(1)\n",
            "memory usage: 444.8+ MB\n"
          ],
          "name": "stdout"
        }
      ]
    },
    {
      "cell_type": "markdown",
      "metadata": {
        "id": "_3gOedGrXy8h"
      },
      "source": [
        "dividing the dataframe into train and test data  \n"
      ]
    },
    {
      "cell_type": "code",
      "metadata": {
        "colab": {
          "base_uri": "https://localhost:8080/"
        },
        "id": "JYuNdZdVI759",
        "outputId": "0a1a0e5a-c361-4e88-81d0-54d0d4a88e5c"
      },
      "source": [
        "target=df_encoded['label']!='normal.'\n",
        "target=target.astype(np.int)\n",
        "print(target.unique())\n",
        "print(target.value_counts())\n",
        "df_encoded['label'] = target\n",
        "from sklearn.model_selection import train_test_split\n",
        "df_train,df_test = train_test_split(df_encoded, test_size=0.2, random_state=2)\n",
        "X_train = df_train.drop(\"label\", axis=1)\n",
        "y_train = df_train[\"label\"]\n",
        "X_test = df_test.drop(\"label\", axis=1)\n",
        "y_test = df_test[\"label\"]"
      ],
      "execution_count": 7,
      "outputs": [
        {
          "output_type": "stream",
          "text": [
            "[0 1]\n",
            "1    396743\n",
            "0     97277\n",
            "Name: label, dtype: int64\n"
          ],
          "name": "stdout"
        }
      ]
    },
    {
      "cell_type": "markdown",
      "metadata": {
        "id": "G-9up4JUbIoe"
      },
      "source": [
        "correcting Class Imbalance + Normalization using StandardScaler "
      ]
    },
    {
      "cell_type": "code",
      "metadata": {
        "colab": {
          "base_uri": "https://localhost:8080/"
        },
        "id": "DUwQXXOCYqn0",
        "outputId": "73f11ccb-b2fc-4468-b961-98f0ce041337"
      },
      "source": [
        "from imblearn.over_sampling import SMOTE\n",
        "smote = SMOTE()\n",
        "X_train_balanced, y_train_balanced = smote.fit_sample(X_train, y_train)\n",
        "print(pd.value_counts(y_train_balanced))\n",
        "from sklearn.preprocessing import StandardScaler\n",
        "from sklearn.impute import SimpleImputer\n",
        "scaler = StandardScaler()\n",
        "imp = SimpleImputer(missing_values=np.nan, strategy='mean')\n",
        "X_train_scaled = scaler.fit_transform(imp.fit_transform(X_train_balanced))"
      ],
      "execution_count": 8,
      "outputs": [
        {
          "output_type": "stream",
          "text": [
            "/usr/local/lib/python3.7/dist-packages/sklearn/externals/six.py:31: FutureWarning: The module is deprecated in version 0.21 and will be removed in version 0.23 since we've dropped support for Python 2.7. Please rely on the official version of six (https://pypi.org/project/six/).\n",
            "  \"(https://pypi.org/project/six/).\", FutureWarning)\n",
            "/usr/local/lib/python3.7/dist-packages/sklearn/utils/deprecation.py:144: FutureWarning: The sklearn.neighbors.base module is  deprecated in version 0.22 and will be removed in version 0.24. The corresponding classes / functions should instead be imported from sklearn.neighbors. Anything that cannot be imported from sklearn.neighbors is now part of the private API.\n",
            "  warnings.warn(message, FutureWarning)\n",
            "/usr/local/lib/python3.7/dist-packages/sklearn/utils/deprecation.py:87: FutureWarning: Function safe_indexing is deprecated; safe_indexing is deprecated in version 0.22 and will be removed in version 0.24.\n",
            "  warnings.warn(msg, category=FutureWarning)\n"
          ],
          "name": "stderr"
        },
        {
          "output_type": "stream",
          "text": [
            "1    317262\n",
            "0    317262\n",
            "dtype: int64\n"
          ],
          "name": "stdout"
        }
      ]
    },
    {
      "cell_type": "markdown",
      "metadata": {
        "id": "Z5EziR3ndmlN"
      },
      "source": [
        "##Binary classification \n"
      ]
    },
    {
      "cell_type": "code",
      "metadata": {
        "id": "d9PE_wZsh1wd"
      },
      "source": [
        "from sklearn.linear_model import LogisticRegression\n",
        "model = LogisticRegression(C=1e-9)\n",
        "model.fit(X_train_scaled, y_train_balanced)\n",
        "X_test_scaled = scaler.transform(X_test)\n",
        "y_pred = model.predict(X_test_scaled)"
      ],
      "execution_count": 9,
      "outputs": []
    },
    {
      "cell_type": "code",
      "metadata": {
        "colab": {
          "base_uri": "https://localhost:8080/"
        },
        "id": "dBY6F8Lldlxu",
        "outputId": "58d71d58-752c-47d7-94de-fd40e7010f4c"
      },
      "source": [
        "from sklearn.metrics import accuracy_score\n",
        "accuracy_score(y_pred, y_test)"
      ],
      "execution_count": 10,
      "outputs": [
        {
          "output_type": "execute_result",
          "data": {
            "text/plain": [
              "0.9867313064248411"
            ]
          },
          "metadata": {
            "tags": []
          },
          "execution_count": 10
        }
      ]
    },
    {
      "cell_type": "code",
      "metadata": {
        "id": "53o8fTeHhW-x",
        "colab": {
          "base_uri": "https://localhost:8080/",
          "height": 824
        },
        "outputId": "40bea8b7-6ea2-4bc2-e322-9ed6532f8046"
      },
      "source": [
        "! wget https://raw.githubusercontent.com/andreaaraldo/machine-learning-for-networks/master/course_library/visualization.py\n",
        "from visualization import plot_conf_mat\n",
        "\n",
        "class_names=np.array([\"normal.\", \"attack.\"] )\n",
        "\n",
        "plot_conf_mat(y_test, y_pred, class_names)"
      ],
      "execution_count": 11,
      "outputs": [
        {
          "output_type": "stream",
          "text": [
            "--2021-06-08 14:18:09--  https://raw.githubusercontent.com/andreaaraldo/machine-learning-for-networks/master/course_library/visualization.py\n",
            "Resolving raw.githubusercontent.com (raw.githubusercontent.com)... 185.199.108.133, 185.199.109.133, 185.199.110.133, ...\n",
            "Connecting to raw.githubusercontent.com (raw.githubusercontent.com)|185.199.108.133|:443... connected.\n",
            "HTTP request sent, awaiting response... 200 OK\n",
            "Length: 13008 (13K) [text/plain]\n",
            "Saving to: ‘visualization.py.2’\n",
            "\n",
            "\rvisualization.py.2    0%[                    ]       0  --.-KB/s               \rvisualization.py.2  100%[===================>]  12.70K  --.-KB/s    in 0s      \n",
            "\n",
            "2021-06-08 14:18:09 (117 MB/s) - ‘visualization.py.2’ saved [13008/13008]\n",
            "\n",
            "Normalized confusion matrix\n",
            "[[0.99265124 0.00734876]\n",
            " [0.01470792 0.98529208]]\n"
          ],
          "name": "stdout"
        },
        {
          "output_type": "execute_result",
          "data": {
            "text/plain": [
              "<matplotlib.axes._subplots.AxesSubplot at 0x7fd69d10c190>"
            ]
          },
          "metadata": {
            "tags": []
          },
          "execution_count": 11
        },
        {
          "output_type": "display_data",
          "data": {
            "image/png": "[encoded data removed]",
            "text/plain": [
              "<Figure size 576x576 with 2 Axes>"
            ]
          },
          "metadata": {
            "tags": [],
            "needs_background": "light"
          }
        }
      ]
    },
    {
      "cell_type": "markdown",
      "metadata": {
        "id": "dA7OYCezmUwp"
      },
      "source": [
        "Multinomial regression to predict only the type of bad connections"
      ]
    },
    {
      "cell_type": "code",
      "metadata": {
        "id": "E64r7P0d9lGQ",
        "outputId": "bf6842a0-5c3b-45f7-ad6e-99d4e0d4f9c8",
        "colab": {
          "base_uri": "https://localhost:8080/"
        }
      },
      "source": [
        "from sklearn.pipeline import make_pipeline\n",
        "from sklearn.preprocessing import StandardScaler\n",
        "from sklearn.linear_model import LogisticRegression\n",
        "from imblearn.over_sampling import SMOTE\n",
        "from sklearn.preprocessing import StandardScaler\n",
        "from sklearn.impute import SimpleImputer\n",
        "from sklearn.metrics import accuracy_score\n",
        "\n",
        "! wget https://raw.githubusercontent.com/andreaaraldo/machine-learning-for-networks/master/course_library/visualization.py\n",
        "from visualization import plot_conf_mat\n",
        "\n",
        "\n",
        "def MyMultinomialRegression(C=1e-3):\n",
        "    return make_pipeline(\n",
        "        LogisticRegression(multi_class=\"multinomial\", solver=\"lbfgs\", C=C)\n",
        "    )\n",
        "\n",
        "smote = SMOTE()\n",
        "scaler = StandardScaler()"
      ],
      "execution_count": 36,
      "outputs": [
        {
          "output_type": "stream",
          "text": [
            "--2021-06-08 14:34:13--  https://raw.githubusercontent.com/andreaaraldo/machine-learning-for-networks/master/course_library/visualization.py\n",
            "Resolving raw.githubusercontent.com (raw.githubusercontent.com)... 185.199.111.133, 185.199.108.133, 185.199.109.133, ...\n",
            "Connecting to raw.githubusercontent.com (raw.githubusercontent.com)|185.199.111.133|:443... connected.\n",
            "HTTP request sent, awaiting response... 200 OK\n",
            "Length: 13008 (13K) [text/plain]\n",
            "Saving to: ‘visualization.py.5’\n",
            "\n",
            "\rvisualization.py.5    0%[                    ]       0  --.-KB/s               \rvisualization.py.5  100%[===================>]  12.70K  --.-KB/s    in 0s      \n",
            "\n",
            "2021-06-08 14:34:13 (107 MB/s) - ‘visualization.py.5’ saved [13008/13008]\n",
            "\n"
          ],
          "name": "stdout"
        }
      ]
    },
    {
      "cell_type": "code",
      "metadata": {
        "colab": {
          "base_uri": "https://localhost:8080/"
        },
        "id": "lXLqyqtx-Lb3",
        "outputId": "757ea2fc-f666-4a19-8780-56876a80bf94"
      },
      "source": [
        "encoder = ce.OneHotEncoder(cols=['protocol_type', 'service', 'flag'], use_cat_names=True)\n",
        "df_encoded2 = encoder.fit_transform(df)\n",
        "\n",
        "connection_classes = [0 if d == \"smurf.\"\n",
        "       else 1 if d == \"neptune.\"\n",
        "       else 2 if d == \"back.\"\n",
        "       else 3 if d == \"satan.\"\n",
        "       else 4 if d == \"ipsweep.\"\n",
        "       else 5 if d == \"portsweep.\"\n",
        "       else 6 if d == \"warezclient.\"\n",
        "       else 7\n",
        "      for d in df_encoded2['label'] \n",
        "      ]\n",
        "df_encoded2['connection_classes'] = connection_classes\n",
        "\n",
        "df_encoded2.drop(df.index[df['label'] =='normal.'], inplace = True)\n",
        "\n",
        "attack_types = []\n",
        "for d in df_encoded2['label'] :\n",
        "  if d in [\"back.\", \"land.\", \"neptune.\", \"pod.\", \"smurf.\", \"teardrop.\"] :\n",
        "    attack_types.append(0)\n",
        "  elif d in [\"buffer_overflow.\", \"loadmodule.\", \"perl.\", \"rootkit.\"] :\n",
        "    attack_types.append(1)\n",
        "  elif d in [\"ftp_write.\", \"guess_passwd.\", \"imap.\", \"multihop.\", \"phf.\", \"spy.\", \"warezclient.\", \"warezmaster.\"] :\n",
        "    attack_types.append(2)\n",
        "  else :\n",
        "    attack_types.append(3)\n",
        "df_encoded2['attack_types'] = attack_types\n",
        "\n",
        "df_train2, df_test2 = train_test_split(df_encoded2,test_size=0.2, random_state=2)\n",
        "X_train2 = df_train2.drop(\"label\", axis=1)\n",
        "X_test2 = df_test2.drop(\"label\", axis=1)\n",
        "y_train2 = df_train2['attack_types']\n",
        "y_test2 = df_test2['attack_types']\n",
        "X_train_balanced2, y_train_balanced2 = smote.fit_sample(X_train2, y_train2)\n",
        "\n",
        "\n",
        "imp = SimpleImputer(missing_values=np.nan, strategy='mean')\n",
        "X_train_scaled2 = scaler.fit_transform(imp.fit_transform(X_train_balanced2))\n",
        "\n",
        "model2 = MyMultinomialRegression(C=0.1)\n",
        "model2.fit(X_train_scaled2, y_train_balanced2)\n",
        "\n",
        "X_test_scaled2 = scaler.transform(X_test2)\n",
        "y_pred2 = model2.predict(X_test_scaled2)"
      ],
      "execution_count": 46,
      "outputs": [
        {
          "output_type": "stream",
          "text": [
            "/usr/local/lib/python3.7/dist-packages/category_encoders/utils.py:21: FutureWarning: is_categorical is deprecated and will be removed in a future version.  Use is_categorical_dtype instead\n",
            "  elif pd.api.types.is_categorical(cols):\n",
            "/usr/local/lib/python3.7/dist-packages/sklearn/utils/deprecation.py:87: FutureWarning: Function safe_indexing is deprecated; safe_indexing is deprecated in version 0.22 and will be removed in version 0.24.\n",
            "  warnings.warn(msg, category=FutureWarning)\n",
            "/usr/local/lib/python3.7/dist-packages/sklearn/utils/deprecation.py:87: FutureWarning: Function safe_indexing is deprecated; safe_indexing is deprecated in version 0.22 and will be removed in version 0.24.\n",
            "  warnings.warn(msg, category=FutureWarning)\n",
            "/usr/local/lib/python3.7/dist-packages/sklearn/utils/deprecation.py:87: FutureWarning: Function safe_indexing is deprecated; safe_indexing is deprecated in version 0.22 and will be removed in version 0.24.\n",
            "  warnings.warn(msg, category=FutureWarning)\n",
            "/usr/local/lib/python3.7/dist-packages/sklearn/linear_model/_logistic.py:940: ConvergenceWarning: lbfgs failed to converge (status=1):\n",
            "STOP: TOTAL NO. of ITERATIONS REACHED LIMIT.\n",
            "\n",
            "Increase the number of iterations (max_iter) or scale the data as shown in:\n",
            "    https://scikit-learn.org/stable/modules/preprocessing.html\n",
            "Please also refer to the documentation for alternative solver options:\n",
            "    https://scikit-learn.org/stable/modules/linear_model.html#logistic-regression\n",
            "  extra_warning_msg=_LOGISTIC_SOLVER_CONVERGENCE_MSG)\n"
          ],
          "name": "stderr"
        }
      ]
    },
    {
      "cell_type": "code",
      "metadata": {
        "id": "DsvBV4hM_-aF",
        "outputId": "616b9a05-8921-45a4-ac3f-4668cdbd0fcc",
        "colab": {
          "base_uri": "https://localhost:8080/",
          "height": 974
        }
      },
      "source": [
        "print(accuracy_score(y_pred2, y_test2))\n",
        "print(y_pred2[[y_pred2 == 0]])\n",
        "print(y_test2)\n",
        "class_names=np.array([\"dos.\", \"u2r.\", \"r2l.\", \"probe.\"])\n",
        "plot_conf_mat(y_test2, y_pred2, class_names )"
      ],
      "execution_count": 47,
      "outputs": [
        {
          "output_type": "stream",
          "text": [
            "0.9999747948934454\n",
            "[0 0 0 ... 0 0 0]\n",
            "110462    0\n",
            "288702    0\n",
            "118085    0\n",
            "62741     0\n",
            "220062    0\n",
            "         ..\n",
            "374337    0\n",
            "205100    0\n",
            "150008    0\n",
            "46102     0\n",
            "477058    0\n",
            "Name: attack_types, Length: 79349, dtype: int64\n",
            "Normalized confusion matrix\n",
            "[[1.         0.         0.         0.        ]\n",
            " [0.         1.         0.         0.        ]\n",
            " [0.         0.00442478 0.99557522 0.        ]\n",
            " [0.         0.         0.00130208 0.99869792]]\n"
          ],
          "name": "stdout"
        },
        {
          "output_type": "stream",
          "text": [
            "/usr/local/lib/python3.7/dist-packages/ipykernel_launcher.py:2: FutureWarning: Using a non-tuple sequence for multidimensional indexing is deprecated; use `arr[tuple(seq)]` instead of `arr[seq]`. In the future this will be interpreted as an array index, `arr[np.array(seq)]`, which will result either in an error or a different result.\n",
            "  \n"
          ],
          "name": "stderr"
        },
        {
          "output_type": "execute_result",
          "data": {
            "text/plain": [
              "<matplotlib.axes._subplots.AxesSubplot at 0x7fd6981afb90>"
            ]
          },
          "metadata": {
            "tags": []
          },
          "execution_count": 47
        },
        {
          "output_type": "display_data",
          "data": {
            "image/png": "[encoded data removed]",
            "text/plain": [
              "<Figure size 576x576 with 2 Axes>"
            ]
          },
          "metadata": {
            "tags": [],
            "needs_background": "light"
          }
        }
      ]
    },
    {
      "cell_type": "code",
      "metadata": {
        "id": "c2guVQLpinNs"
      },
      "source": [
        "k=0\n",
        "for i in range (0,len(y_pred)): \n",
        "  #si c'est une attaque\n",
        "  if y_pred[i] == 0 :\n",
        "    y_pred2 = model2.predict(X_test_scaled[i:])\n",
        "    s+= accuracy_score(y_pred2, y_test2[i])\n",
        "    k+=1\n",
        "s=s/k\n",
        "print (\"accuracy score is :\"+ s)"
      ],
      "execution_count": null,
      "outputs": []
    },
    {
      "cell_type": "code",
      "metadata": {
        "id": "KIRfmthznS5J"
      },
      "source": [
        ""
      ],
      "execution_count": null,
      "outputs": []
    }
  ]
}